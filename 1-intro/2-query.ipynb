{
 "cells": [
  {
   "cell_type": "markdown",
   "metadata": {},
   "source": [
    "# Query the data\n",
    "\n",
    "## Get keys and urls"
   ]
  },
  {
   "cell_type": "code",
   "execution_count": 1,
   "metadata": {},
   "outputs": [
    {
     "name": "stdout",
     "output_type": "stream",
     "text": [
      "https://3gr2a6vetrmhdtkhud1ryg.c0.europe-west3.gcp.weaviate.cloud\n",
      "vkZQeDJjZKaPKIOcQDssGPARPsAjzV9YpqsH\n",
      "sk-cWzmxOAnwcNG3ii1cmm44maziAEovRo4vT5f-aGy3dT3BlbkFJ8QHwsLfRWkNVnXhpyCAuxsE3qRMBfAFkKAh5xKibUA\n"
     ]
    }
   ],
   "source": [
    "import os\n",
    "from dotenv import load_dotenv\n",
    "\n",
    "load_dotenv()\n",
    "\n",
    "WEAVIATE_URL = os.getenv(\"WEAVIATE_URL\")\n",
    "WEAVIATE_KEY = os.getenv(\"WEAVIATE_KEY\")\n",
    "OPENAI_API_KEY = os.getenv(\"OPENAI_API_KEY\")\n",
    "\n",
    "print(WEAVIATE_URL)\n",
    "print(WEAVIATE_KEY)\n",
    "print(OPENAI_API_KEY)\n",
    "\n",
    "if(WEAVIATE_URL == \"UPDATE_ME_WEAVIATE_URL\"):\n",
    "    raise Exception(\"Please update .env and Restart the notebook (see Restart button, next to Run All)\")"
   ]
  },
  {
   "cell_type": "markdown",
   "metadata": {},
   "source": [
    "## Connect to Weaviate"
   ]
  },
  {
   "cell_type": "code",
   "execution_count": 2,
   "metadata": {},
   "outputs": [
    {
     "name": "stderr",
     "output_type": "stream",
     "text": [
      "/home/vscode/.local/lib/python3.12/site-packages/google/protobuf/runtime_version.py:112: UserWarning: Protobuf gencode version 5.27.2 is older than the runtime version 5.28.0 at grpc_health/v1/health.proto. Please avoid checked-in Protobuf gencode that can be obsolete.\n",
      "  warnings.warn(\n"
     ]
    },
    {
     "data": {
      "text/plain": [
       "True"
      ]
     },
     "execution_count": 2,
     "metadata": {},
     "output_type": "execute_result"
    }
   ],
   "source": [
    "import weaviate\n",
    "from weaviate.classes.init import Auth\n",
    "# from weaviate.classes.init import AdditionalConfig, Timeout\n",
    "\n",
    "client = weaviate.connect_to_weaviate_cloud(\n",
    "    cluster_url=WEAVIATE_URL,\n",
    "    auth_credentials=Auth.api_key(WEAVIATE_KEY),\n",
    "\n",
    "    headers = {\n",
    "        \"X-OpenAI-Api-Key\": OPENAI_API_KEY\n",
    "    },\n",
    "\n",
    "    # additional_config=AdditionalConfig(\n",
    "    #     timeout=Timeout(init=2, query=45, insert=120),  # Values in seconds\n",
    "    # )\n",
    ")\n",
    "\n",
    "client.is_ready()"
   ]
  },
  {
   "cell_type": "markdown",
   "metadata": {},
   "source": [
    "### Helper function"
   ]
  },
  {
   "cell_type": "code",
   "execution_count": 3,
   "metadata": {},
   "outputs": [],
   "source": [
    "import json\n",
    "def print_properties(item):\n",
    "    print(\n",
    "        json.dumps(\n",
    "            item.properties,\n",
    "            indent=2, sort_keys=True, default=str\n",
    "        )\n",
    "    )"
   ]
  },
  {
   "cell_type": "markdown",
   "metadata": {},
   "source": [
    "## Vector search\n",
    "[Docs - near_text](https://weaviate.io/developers/weaviate/search/similarity#an-input-medium)"
   ]
  },
  {
   "cell_type": "code",
   "execution_count": 4,
   "metadata": {},
   "outputs": [
    {
     "name": "stdout",
     "output_type": "stream",
     "text": [
      "{\n",
      "  \"text\": \"The tuba is the biggest of all the brass musical instruments. They are the newest part of the symphony orchestra, first showing up in the mid-19th century. Most orchestras have a tuba now. The standard tuba has about 16 feet of tubes.\",\n",
      "  \"title\": \"Tuba\",\n",
      "  \"url\": \"https://simple.wikipedia.org/wiki/Tuba\",\n",
      "  \"wiki_id\": \"20231101.simple_11118_0\"\n",
      "}\n",
      "{\n",
      "  \"text\": \"Church music has varied enormously during the history of Christianity as different churches kept changing their ideas about what part music should have in religious worship.  Most church music is based on singing.  Music written for church choirs mostly used the words of the liturgy (the words used in services).  The organ is the most important musical instrument in church music, although from time to time many other instruments have been used as well.\",\n",
      "  \"title\": \"Church music\",\n",
      "  \"url\": \"https://simple.wikipedia.org/wiki/Church%20music\",\n",
      "  \"wiki_id\": \"20231101.simple_93102_1\"\n",
      "}\n",
      "{\n",
      "  \"text\": \"The orchestra needs 3 flutes (one doubling piccolo), 3 oboes (one doubling cor anglais), 3 clarinets (one doubling bass clarinet), 3 bassoons (one doubling contrabassoon), 4 French horns, 3 trumpets, 3 trombones, tuba, timpani, side drum, bass drum, cymbals, triangle, tamtam, 2 harps and strings\",\n",
      "  \"title\": \"Concerto for Orchestra (Bart\\u00f3k)\",\n",
      "  \"url\": \"https://simple.wikipedia.org/wiki/Concerto%20for%20Orchestra%20%28Bart%C3%B3k%29\",\n",
      "  \"wiki_id\": \"20231101.simple_193305_4\"\n",
      "}\n",
      "{\n",
      "  \"text\": \"The simplest type of mechanical aid is the use of wooden \\\"fingers\\\" that can be closed to press the string down and fret the C#, D, Eb, or E notes. This system is particularly useful for basslines that have a repeating pedal point such as a low D, because once the note is locked in place with the mechanical \\\"finger\\\", the lowest string then sounds a different note when it is played \\\"open\\\" (e.g., a low D).\",\n",
      "  \"title\": \"Double bass\",\n",
      "  \"url\": \"https://simple.wikipedia.org/wiki/Double%20bass\",\n",
      "  \"wiki_id\": \"20231101.simple_16629_10\"\n",
      "}\n",
      "{\n",
      "  \"text\": \"Range (music), the distance from the lowest note to the highest note that a musical instrument can play\",\n",
      "  \"title\": \"Range\",\n",
      "  \"url\": \"https://simple.wikipedia.org/wiki/Range\",\n",
      "  \"wiki_id\": \"20231101.simple_498982_0\"\n",
      "}\n",
      "{\n",
      "  \"text\": \"Bagpipes have always been folk instruments, but after the 15th century some were used for court music, and others have survived as military instruments. For the chanter, two single-reed cane pipes are placed parallel, one pipe often sounding a drone or other accompaniment to the other pipe.Oct 6, 2023.\",\n",
      "  \"title\": \"Bagpipes\",\n",
      "  \"url\": \"https://simple.wikipedia.org/wiki/Bagpipes\",\n",
      "  \"wiki_id\": \"20231101.simple_112374_3\"\n",
      "}\n",
      "{\n",
      "  \"text\": \"A shepherd had a lot of time to sit and think or amuse himself.  He often made simple instruments out of reeds that grew where he sat.  These instruments were often simple pan flutes or just pipes which were similar to bamboo pipes or a modern recorder.  Some shepherds learned to carve instruments out of wood.  An example is the fujara from Slovakia and southern Poland.\",\n",
      "  \"title\": \"Shepherd\",\n",
      "  \"url\": \"https://simple.wikipedia.org/wiki/Shepherd\",\n",
      "  \"wiki_id\": \"20231101.simple_70678_5\"\n",
      "}\n",
      "{\n",
      "  \"text\": \"The production of this older type of instrument had stopped in the end of the 19th century. In the second half of the 20th century people started to be more interested in period instruments, including harpsichord and fortepiano. Some of the more known fortepiano builders included in this 20th-century fortepiano revival have been Philip Belt, Margaret F. Hood, Christopher Clark and Paul McNulty.\",\n",
      "  \"title\": \"Piano\",\n",
      "  \"url\": \"https://simple.wikipedia.org/wiki/Piano\",\n",
      "  \"wiki_id\": \"20231101.simple_6693_6\"\n",
      "}\n",
      "{\n",
      "  \"text\": \"A tamil pambai consists of two percussion instruments, two tambourines, two pumps, an urn, a snare drum, and a hammer.\",\n",
      "  \"title\": \"Pambai\",\n",
      "  \"url\": \"https://simple.wikipedia.org/wiki/Pambai\",\n",
      "  \"wiki_id\": \"20231101.simple_917661_4\"\n",
      "}\n",
      "{\n",
      "  \"text\": \"Thousands of years ago people used the horns of dead animals for musical instruments (see horn (postal horn)). In later times, they were used for carrying gunpowder.\",\n",
      "  \"title\": \"Horn (anatomy)\",\n",
      "  \"url\": \"https://simple.wikipedia.org/wiki/Horn%20%28anatomy%29\",\n",
      "  \"wiki_id\": \"20231101.simple_43954_2\"\n",
      "}\n",
      "{\n",
      "  \"text\": \"Blind experiments went on to be used outside of purely scientific settings.  In 1817, a committee of scientists and musicians compared a Stradivarius violin to one with a guitar-like design made by the naval engineer Fran\\u00e7ois Chanot.  A well-known violinist played each instrument while the committee listened in the next room to avoid prejudice.\",\n",
      "  \"title\": \"Blind experiment\",\n",
      "  \"url\": \"https://simple.wikipedia.org/wiki/Blind%20experiment\",\n",
      "  \"wiki_id\": \"20231101.simple_418249_3\"\n",
      "}\n",
      "{\n",
      "  \"text\": \"The range of a musical instrument is the distance from the lowest to the highest pitch it can play. For a singing voice, this is known as vocal range.\",\n",
      "  \"title\": \"Range (music)\",\n",
      "  \"url\": \"https://simple.wikipedia.org/wiki/Range%20%28music%29\",\n",
      "  \"wiki_id\": \"20231101.simple_84201_0\"\n",
      "}\n",
      "{\n",
      "  \"text\": \"Santur () is an Iranian traditional musical instrument. It can also be referred to as santoor or santour. It is usually based on 18 Bridge () on the left and right side (9 in left and 9 on the right).\",\n",
      "  \"title\": \"Santur\",\n",
      "  \"url\": \"https://simple.wikipedia.org/wiki/Santur\",\n",
      "  \"wiki_id\": \"20231101.simple_774003_0\"\n",
      "}\n",
      "{\n",
      "  \"text\": \"Paganini played violins by Giuseppe Guarneri. One was called Il Cannone Guarnerius (\\\"The Cannon of Guarnieri\\\"). Other violins and instruments connected to him include Stradivari. They include the Paganini-Desaint 1680 Stradivari, the Le Brun 1712 Stradivari, the Hubay 1726 Stradivari, the Mendelssohn 1731 Stradivari violas and the Ladenburg 1736 Stradivari cellos. Other Italian instrument names connected to him are Amati, Goffriller and Bertolotti.\",\n",
      "  \"title\": \"Niccol\\u00f2 Paganini\",\n",
      "  \"url\": \"https://simple.wikipedia.org/wiki/Niccol%C3%B2%20Paganini\",\n",
      "  \"wiki_id\": \"20231101.simple_26971_6\"\n",
      "}\n",
      "{\n",
      "  \"text\": \"The mantura () is a wind musical instrument. It is originally from the Greek island of Crete. It has 4 to 6 holes for the fingers and makes sound with the help of the tongue.\",\n",
      "  \"title\": \"Mantura\",\n",
      "  \"url\": \"https://simple.wikipedia.org/wiki/Mantura\",\n",
      "  \"wiki_id\": \"20231101.simple_438613_0\"\n",
      "}\n",
      "{\n",
      "  \"text\": \"The Guildhall School does not just teach students at the school. They also organize music examinations in the whole of Britain for anyone learning musical instruments. In 2004 these examinations joined with those of Trinity College London to form Trinity Guildhall Examinations. Today, Trinity Guildhall offers qualifications in performing and teaching in music, speech and drama, and dance to external students (students who are not studying at the school).\",\n",
      "  \"title\": \"Guildhall School of Music and Drama\",\n",
      "  \"url\": \"https://simple.wikipedia.org/wiki/Guildhall%20School%20of%20Music%20and%20Drama\",\n",
      "  \"wiki_id\": \"20231101.simple_261963_2\"\n",
      "}\n",
      "{\n",
      "  \"text\": \"Steve Madaio, Raymond Maldonado - trumpets; Trevor Laurence, Hank Redd - saxophones; Michael Sembello - lead guitar; Benjamin Bridges - rhythm guitar; Nathan Watts - bass; Raymond Pounds - drums\",\n",
      "  \"title\": \"Stevie Wonder's Original Musiquarium\",\n",
      "  \"url\": \"https://simple.wikipedia.org/wiki/Stevie%20Wonder%27s%20Original%20Musiquarium\",\n",
      "  \"wiki_id\": \"20231101.simple_523202_3\"\n",
      "}\n",
      "{\n",
      "  \"text\": \"Observations that come from self-defining instruments are often unreliable. Such observations are hard to reproduce because they may vary even with respect to the same stimuli. Thus they are not of much use in exact sciences like physics which require instruments which do not define themselves. It is thus often necessary to use various engineered instruments like: spectrometers, oscilloscopes, cameras, telescopes, interferometers, tape recorders, thermometers etc. and tools like clocks, scale that help in improving the accuracy, quality and utility of the information obtained from an observation.\",\n",
      "  \"title\": \"Observation\",\n",
      "  \"url\": \"https://simple.wikipedia.org/wiki/Observation\",\n",
      "  \"wiki_id\": \"20231101.simple_61821_2\"\n",
      "}\n",
      "{\n",
      "  \"text\": \"The ektara was a regular string instrument of wandering bards and minstrels from India.  It is plucked with one finger. The ektara usually has a stretched single string.  An animal skin is over a head made of dried pumpkin/gourd, wood or coconut.  The neck is a pole or split bamboo cane.\",\n",
      "  \"title\": \"Ektara\",\n",
      "  \"url\": \"https://simple.wikipedia.org/wiki/Ektara\",\n",
      "  \"wiki_id\": \"20231101.simple_345637_1\"\n",
      "}\n",
      "{\n",
      "  \"text\": \"Double sharps also exist; these have the symbol  and raise a note by two semitones, or a whole step. Less often there are half or three-quarter sharps.\",\n",
      "  \"title\": \"Sharp (music)\",\n",
      "  \"url\": \"https://simple.wikipedia.org/wiki/Sharp%20%28music%29\",\n",
      "  \"wiki_id\": \"20231101.simple_233800_2\"\n",
      "}\n",
      "{\n",
      "  \"text\": \"Mutter owns and plays two Stradivarius violins: the Emiliani of 1703 and the Lord Dunn-Raven Stradivarius of 1710. Her other violins include a Finnigan-Klaembt dated 1999 and a Regazzi dated 2005.\",\n",
      "  \"title\": \"Anne-Sophie Mutter\",\n",
      "  \"url\": \"https://simple.wikipedia.org/wiki/Anne-Sophie%20Mutter\",\n",
      "  \"wiki_id\": \"20231101.simple_933685_6\"\n",
      "}\n",
      "{\n",
      "  \"text\": \"Samul nori is a Korean traditional musical performance, which is performed with four percussion instruments: Jing, Janggu, Buk (the drum in Korean), Kkwaenggwari. The performance includes dancing. Specifically, in Samul, sa means \\\"four\\\", and mul means \\\"object\\\" in Korean, and nori means \\\"to play\\\". Considering the meaning of Samul nori, this is one kind of playful and casual art performance done in public. In the past, Korean people usually play Samul nori when they work in agricultural area to relax after working.\",\n",
      "  \"title\": \"Samul nori\",\n",
      "  \"url\": \"https://simple.wikipedia.org/wiki/Samul%20nori\",\n",
      "  \"wiki_id\": \"20231101.simple_373942_0\"\n",
      "}\n",
      "{\n",
      "  \"text\": \"The songs written for the concert band are much more easy to listen because of its repertoires . The repertoires are not only about the orchestral composition. Light music, jazz, march and popular tunes are also played. Even though people don't have special knowledge about it, anyone can enjoy the concert band music. It is highly acclaimed for both its quality and popularity. As the arrangement of concert band music is completed in the 20th century, its modern and dynamic style appeals general public. Plus, many conductors conduct concert bands attracted by its unique orchestration.\",\n",
      "  \"title\": \"Concert band\",\n",
      "  \"url\": \"https://simple.wikipedia.org/wiki/Concert%20band\",\n",
      "  \"wiki_id\": \"20231101.simple_375053_2\"\n",
      "}\n",
      "{\n",
      "  \"text\": \"Beck, John (1995). Encyclopedia of percussion instruments. New York: Garland Publishing. . Google Books preview. Accessed 8 September 2009.\",\n",
      "  \"title\": \"Snare drum\",\n",
      "  \"url\": \"https://simple.wikipedia.org/wiki/Snare%20drum\",\n",
      "  \"wiki_id\": \"20231101.simple_306810_3\"\n",
      "}\n",
      "{\n",
      "  \"text\": \"1 \\u2013 Indispensable 20\\u2032 Instrument cable. 1/4 TS to 1/8 TRS3 \\u2013 Neat VW/First Act logo charcoal celluloid guitar picks-medium thickness\",\n",
      "  \"title\": \"Volkswagen First Act\",\n",
      "  \"url\": \"https://simple.wikipedia.org/wiki/Volkswagen%20First%20Act\",\n",
      "  \"wiki_id\": \"20231101.simple_299968_3\"\n",
      "}\n"
     ]
    }
   ],
   "source": [
    "# TODO: get the Wiki collection\n",
    "wiki = client.collections.get(\"Wiki\")\n",
    "\n",
    "# TODO: run a near text query, search for musical instruments, with limit 5\n",
    "response = wiki.query.near_text(\"musical instruments\", limit=25)\n",
    "\n",
    "for item in response.objects:\n",
    "    print_properties(item)"
   ]
  },
  {
   "cell_type": "code",
   "execution_count": 5,
   "metadata": {},
   "outputs": [
    {
     "name": "stdout",
     "output_type": "stream",
     "text": [
      "{\n",
      "  \"text\": \"The tuba is the biggest of all the brass musical instruments. They are the newest part of the symphony orchestra, first showing up in the mid-19th century. Most orchestras have a tuba now. The standard tuba has about 16 feet of tubes.\",\n",
      "  \"title\": \"Tuba\",\n",
      "  \"url\": \"https://simple.wikipedia.org/wiki/Tuba\",\n",
      "  \"wiki_id\": \"20231101.simple_11118_0\"\n",
      "}\n",
      "0.5253647565841675\n",
      "{\n",
      "  \"text\": \"Church music has varied enormously during the history of Christianity as different churches kept changing their ideas about what part music should have in religious worship.  Most church music is based on singing.  Music written for church choirs mostly used the words of the liturgy (the words used in services).  The organ is the most important musical instrument in church music, although from time to time many other instruments have been used as well.\",\n",
      "  \"title\": \"Church music\",\n",
      "  \"url\": \"https://simple.wikipedia.org/wiki/Church%20music\",\n",
      "  \"wiki_id\": \"20231101.simple_93102_1\"\n",
      "}\n",
      "0.5491465330123901\n",
      "{\n",
      "  \"text\": \"The orchestra needs 3 flutes (one doubling piccolo), 3 oboes (one doubling cor anglais), 3 clarinets (one doubling bass clarinet), 3 bassoons (one doubling contrabassoon), 4 French horns, 3 trumpets, 3 trombones, tuba, timpani, side drum, bass drum, cymbals, triangle, tamtam, 2 harps and strings\",\n",
      "  \"title\": \"Concerto for Orchestra (Bart\\u00f3k)\",\n",
      "  \"url\": \"https://simple.wikipedia.org/wiki/Concerto%20for%20Orchestra%20%28Bart%C3%B3k%29\",\n",
      "  \"wiki_id\": \"20231101.simple_193305_4\"\n",
      "}\n",
      "0.5613930821418762\n",
      "{\n",
      "  \"text\": \"The simplest type of mechanical aid is the use of wooden \\\"fingers\\\" that can be closed to press the string down and fret the C#, D, Eb, or E notes. This system is particularly useful for basslines that have a repeating pedal point such as a low D, because once the note is locked in place with the mechanical \\\"finger\\\", the lowest string then sounds a different note when it is played \\\"open\\\" (e.g., a low D).\",\n",
      "  \"title\": \"Double bass\",\n",
      "  \"url\": \"https://simple.wikipedia.org/wiki/Double%20bass\",\n",
      "  \"wiki_id\": \"20231101.simple_16629_10\"\n",
      "}\n",
      "0.5620169639587402\n",
      "{\n",
      "  \"text\": \"Range (music), the distance from the lowest note to the highest note that a musical instrument can play\",\n",
      "  \"title\": \"Range\",\n",
      "  \"url\": \"https://simple.wikipedia.org/wiki/Range\",\n",
      "  \"wiki_id\": \"20231101.simple_498982_0\"\n",
      "}\n",
      "0.5689641237258911\n"
     ]
    }
   ],
   "source": [
    "from weaviate.classes.query import MetadataQuery\n",
    "\n",
    "# wiki = client.collections.get(WIKI_NAME)\n",
    "\n",
    "response = wiki.query.near_text(\n",
    "    query=\"musical instruments\",\n",
    "    limit=5,\n",
    "    # TODO: add MetadataQuery - request distance\n",
    "    return_metadata=MetadataQuery(distance=True)\n",
    ")\n",
    "\n",
    "for item in response.objects:\n",
    "    print_properties(item)\n",
    "    print(item.metadata.distance)"
   ]
  },
  {
   "cell_type": "markdown",
   "metadata": {},
   "source": [
    "### Autocut\n",
    "\n",
    "Return groups of results based on the quality/distance jumps"
   ]
  },
  {
   "cell_type": "code",
   "execution_count": 13,
   "metadata": {},
   "outputs": [
    {
     "name": "stdout",
     "output_type": "stream",
     "text": [
      "Returned object count: 2\n",
      "{\n",
      "  \"text\": \"The tuba is the biggest of all the brass musical instruments. They are the newest part of the symphony orchestra, first showing up in the mid-19th century. Most orchestras have a tuba now. The standard tuba has about 16 feet of tubes.\",\n",
      "  \"title\": \"Tuba\",\n",
      "  \"url\": \"https://simple.wikipedia.org/wiki/Tuba\",\n",
      "  \"wiki_id\": \"20231101.simple_11118_0\"\n",
      "}\n",
      "0.5253647565841675\n",
      "{\n",
      "  \"text\": \"Church music has varied enormously during the history of Christianity as different churches kept changing their ideas about what part music should have in religious worship.  Most church music is based on singing.  Music written for church choirs mostly used the words of the liturgy (the words used in services).  The organ is the most important musical instrument in church music, although from time to time many other instruments have been used as well.\",\n",
      "  \"title\": \"Church music\",\n",
      "  \"url\": \"https://simple.wikipedia.org/wiki/Church%20music\",\n",
      "  \"wiki_id\": \"20231101.simple_93102_1\"\n",
      "}\n",
      "0.5491465330123901\n"
     ]
    }
   ],
   "source": [
    "from weaviate.classes.query import MetadataQuery\n",
    "\n",
    "wiki = client.collections.get(\"wiki\")\n",
    "\n",
    "response = wiki.query.near_text(\n",
    "    query=\"musical instruments\",\n",
    "    # TODO: use auto_limit instead if limit, set it to 1\n",
    "    auto_limit=2,\n",
    "    distance=0.561,\n",
    "\n",
    "    return_metadata=MetadataQuery(distance=True)\n",
    ")\n",
    "\n",
    "print(f\"Returned object count: {len(response.objects)}\")\n",
    "\n",
    "for item in response.objects:\n",
    "    print_properties(item)\n",
    "    print(item.metadata.distance)"
   ]
  },
  {
   "cell_type": "markdown",
   "metadata": {},
   "source": [
    "## Filters"
   ]
  },
  {
   "cell_type": "markdown",
   "metadata": {},
   "source": [
    "### Fetch with filters"
   ]
  },
  {
   "cell_type": "code",
   "execution_count": 16,
   "metadata": {},
   "outputs": [
    {
     "ename": "WeaviateInvalidInputError",
     "evalue": "Invalid input provided: Argument 'filters' must be one of: [<class 'weaviate.collections.classes.filters._Filters'>, None], but got <class 'weaviate.collections.classes.filters._FilterByProperty'>.",
     "output_type": "error",
     "traceback": [
      "\u001b[0;31m---------------------------------------------------------------------------\u001b[0m",
      "\u001b[0;31mWeaviateInvalidInputError\u001b[0m                 Traceback (most recent call last)",
      "Cell \u001b[0;32mIn[16], line 5\u001b[0m\n\u001b[1;32m      1\u001b[0m \u001b[38;5;28;01mfrom\u001b[39;00m \u001b[38;5;21;01mweaviate\u001b[39;00m\u001b[38;5;21;01m.\u001b[39;00m\u001b[38;5;21;01mclasses\u001b[39;00m\u001b[38;5;21;01m.\u001b[39;00m\u001b[38;5;21;01mquery\u001b[39;00m \u001b[38;5;28;01mimport\u001b[39;00m Filter\n\u001b[1;32m      3\u001b[0m \u001b[38;5;66;03m# wiki = client.collections.get(WIKI_NAME)\u001b[39;00m\n\u001b[0;32m----> 5\u001b[0m response \u001b[38;5;241m=\u001b[39m \u001b[43mwiki\u001b[49m\u001b[38;5;241;43m.\u001b[39;49m\u001b[43mquery\u001b[49m\u001b[38;5;241;43m.\u001b[39;49m\u001b[43mfetch_objects\u001b[49m\u001b[43m(\u001b[49m\n\u001b[1;32m      6\u001b[0m \u001b[43m    \u001b[49m\u001b[43mlimit\u001b[49m\u001b[38;5;241;43m=\u001b[39;49m\u001b[38;5;241;43m5\u001b[39;49m\u001b[43m,\u001b[49m\n\u001b[1;32m      7\u001b[0m \u001b[43m    \u001b[49m\u001b[38;5;66;43;03m# TODO: filter by property title, search for something like music\u001b[39;49;00m\n\u001b[1;32m      8\u001b[0m \u001b[43m    \u001b[49m\u001b[43mfilters\u001b[49m\u001b[38;5;241;43m=\u001b[39;49m\u001b[43mFilter\u001b[49m\u001b[38;5;241;43m.\u001b[39;49m\u001b[43mby_property\u001b[49m\u001b[43m(\u001b[49m\u001b[38;5;124;43m\"\u001b[39;49m\u001b[38;5;124;43mtitle\u001b[39;49m\u001b[38;5;124;43m\"\u001b[39;49m\u001b[43m)\u001b[49m\n\u001b[1;32m      9\u001b[0m \u001b[43m)\u001b[49m\n\u001b[1;32m     11\u001b[0m \u001b[38;5;28;01mfor\u001b[39;00m item \u001b[38;5;129;01min\u001b[39;00m response\u001b[38;5;241m.\u001b[39mobjects:\n\u001b[1;32m     12\u001b[0m     print_properties(item)\n",
      "File \u001b[0;32m~/.local/lib/python3.12/site-packages/weaviate/syncify.py:23\u001b[0m, in \u001b[0;36mconvert.<locals>.sync_method\u001b[0;34m(self, __new_name, *args, **kwargs)\u001b[0m\n\u001b[1;32m     20\u001b[0m \u001b[38;5;129m@wraps\u001b[39m(method)  \u001b[38;5;66;03m# type: ignore\u001b[39;00m\n\u001b[1;32m     21\u001b[0m \u001b[38;5;28;01mdef\u001b[39;00m \u001b[38;5;21msync_method\u001b[39m(\u001b[38;5;28mself\u001b[39m, \u001b[38;5;241m*\u001b[39margs, __new_name\u001b[38;5;241m=\u001b[39mnew_name, \u001b[38;5;241m*\u001b[39m\u001b[38;5;241m*\u001b[39mkwargs):\n\u001b[1;32m     22\u001b[0m     async_func \u001b[38;5;241m=\u001b[39m \u001b[38;5;28mgetattr\u001b[39m(\u001b[38;5;28mcls\u001b[39m, __new_name)\n\u001b[0;32m---> 23\u001b[0m     \u001b[38;5;28;01mreturn\u001b[39;00m \u001b[43m_EventLoopSingleton\u001b[49m\u001b[38;5;241;43m.\u001b[39;49m\u001b[43mget_instance\u001b[49m\u001b[43m(\u001b[49m\u001b[43m)\u001b[49m\u001b[38;5;241;43m.\u001b[39;49m\u001b[43mrun_until_complete\u001b[49m\u001b[43m(\u001b[49m\n\u001b[1;32m     24\u001b[0m \u001b[43m        \u001b[49m\u001b[43masync_func\u001b[49m\u001b[43m,\u001b[49m\u001b[43m \u001b[49m\u001b[38;5;28;43mself\u001b[39;49m\u001b[43m,\u001b[49m\u001b[43m \u001b[49m\u001b[38;5;241;43m*\u001b[39;49m\u001b[43margs\u001b[49m\u001b[43m,\u001b[49m\u001b[43m \u001b[49m\u001b[38;5;241;43m*\u001b[39;49m\u001b[38;5;241;43m*\u001b[39;49m\u001b[43mkwargs\u001b[49m\n\u001b[1;32m     25\u001b[0m \u001b[43m    \u001b[49m\u001b[43m)\u001b[49m\n",
      "File \u001b[0;32m~/.local/lib/python3.12/site-packages/weaviate/event_loop.py:40\u001b[0m, in \u001b[0;36m_EventLoop.run_until_complete\u001b[0;34m(self, f, *args, **kwargs)\u001b[0m\n\u001b[1;32m     38\u001b[0m     \u001b[38;5;28;01mraise\u001b[39;00m WeaviateClosedClientError()\n\u001b[1;32m     39\u001b[0m fut \u001b[38;5;241m=\u001b[39m asyncio\u001b[38;5;241m.\u001b[39mrun_coroutine_threadsafe(f(\u001b[38;5;241m*\u001b[39margs, \u001b[38;5;241m*\u001b[39m\u001b[38;5;241m*\u001b[39mkwargs), \u001b[38;5;28mself\u001b[39m\u001b[38;5;241m.\u001b[39mloop)\n\u001b[0;32m---> 40\u001b[0m \u001b[38;5;28;01mreturn\u001b[39;00m \u001b[43mfut\u001b[49m\u001b[38;5;241;43m.\u001b[39;49m\u001b[43mresult\u001b[49m\u001b[43m(\u001b[49m\u001b[43m)\u001b[49m\n",
      "File \u001b[0;32m/usr/local/lib/python3.12/concurrent/futures/_base.py:456\u001b[0m, in \u001b[0;36mFuture.result\u001b[0;34m(self, timeout)\u001b[0m\n\u001b[1;32m    454\u001b[0m     \u001b[38;5;28;01mraise\u001b[39;00m CancelledError()\n\u001b[1;32m    455\u001b[0m \u001b[38;5;28;01melif\u001b[39;00m \u001b[38;5;28mself\u001b[39m\u001b[38;5;241m.\u001b[39m_state \u001b[38;5;241m==\u001b[39m FINISHED:\n\u001b[0;32m--> 456\u001b[0m     \u001b[38;5;28;01mreturn\u001b[39;00m \u001b[38;5;28;43mself\u001b[39;49m\u001b[38;5;241;43m.\u001b[39;49m\u001b[43m__get_result\u001b[49m\u001b[43m(\u001b[49m\u001b[43m)\u001b[49m\n\u001b[1;32m    457\u001b[0m \u001b[38;5;28;01melse\u001b[39;00m:\n\u001b[1;32m    458\u001b[0m     \u001b[38;5;28;01mraise\u001b[39;00m \u001b[38;5;167;01mTimeoutError\u001b[39;00m()\n",
      "File \u001b[0;32m/usr/local/lib/python3.12/concurrent/futures/_base.py:401\u001b[0m, in \u001b[0;36mFuture.__get_result\u001b[0;34m(self)\u001b[0m\n\u001b[1;32m    399\u001b[0m \u001b[38;5;28;01mif\u001b[39;00m \u001b[38;5;28mself\u001b[39m\u001b[38;5;241m.\u001b[39m_exception:\n\u001b[1;32m    400\u001b[0m     \u001b[38;5;28;01mtry\u001b[39;00m:\n\u001b[0;32m--> 401\u001b[0m         \u001b[38;5;28;01mraise\u001b[39;00m \u001b[38;5;28mself\u001b[39m\u001b[38;5;241m.\u001b[39m_exception\n\u001b[1;32m    402\u001b[0m     \u001b[38;5;28;01mfinally\u001b[39;00m:\n\u001b[1;32m    403\u001b[0m         \u001b[38;5;66;03m# Break a reference cycle with the exception in self._exception\u001b[39;00m\n\u001b[1;32m    404\u001b[0m         \u001b[38;5;28mself\u001b[39m \u001b[38;5;241m=\u001b[39m \u001b[38;5;28;01mNone\u001b[39;00m\n",
      "File \u001b[0;32m~/.local/lib/python3.12/site-packages/weaviate/collections/queries/fetch_objects/query.py:65\u001b[0m, in \u001b[0;36m_FetchObjectsQueryAsync.fetch_objects\u001b[0;34m(self, limit, offset, after, filters, sort, include_vector, return_metadata, return_properties, return_references)\u001b[0m\n\u001b[1;32m     18\u001b[0m \u001b[38;5;28;01masync\u001b[39;00m \u001b[38;5;28;01mdef\u001b[39;00m \u001b[38;5;21mfetch_objects\u001b[39m(\n\u001b[1;32m     19\u001b[0m     \u001b[38;5;28mself\u001b[39m,\n\u001b[1;32m     20\u001b[0m     \u001b[38;5;241m*\u001b[39m,\n\u001b[0;32m   (...)\u001b[0m\n\u001b[1;32m     29\u001b[0m     return_references: Optional[ReturnReferences[TReferences]] \u001b[38;5;241m=\u001b[39m \u001b[38;5;28;01mNone\u001b[39;00m\n\u001b[1;32m     30\u001b[0m ) \u001b[38;5;241m-\u001b[39m\u001b[38;5;241m>\u001b[39m QueryReturnType[Properties, References, TProperties, TReferences]:\n\u001b[1;32m     31\u001b[0m \u001b[38;5;250m    \u001b[39m\u001b[38;5;124;03m\"\"\"Retrieve the objects in this collection without any search.\u001b[39;00m\n\u001b[1;32m     32\u001b[0m \n\u001b[1;32m     33\u001b[0m \u001b[38;5;124;03m    Arguments:\u001b[39;00m\n\u001b[0;32m   (...)\u001b[0m\n\u001b[1;32m     63\u001b[0m \u001b[38;5;124;03m            If the network connection to Weaviate fails.\u001b[39;00m\n\u001b[1;32m     64\u001b[0m \u001b[38;5;124;03m    \"\"\"\u001b[39;00m\n\u001b[0;32m---> 65\u001b[0m     res \u001b[38;5;241m=\u001b[39m \u001b[38;5;28;01mawait\u001b[39;00m \u001b[38;5;28;43mself\u001b[39;49m\u001b[38;5;241;43m.\u001b[39;49m\u001b[43m_query\u001b[49m\u001b[38;5;241;43m.\u001b[39;49m\u001b[43mget\u001b[49m\u001b[43m(\u001b[49m\n\u001b[1;32m     66\u001b[0m \u001b[43m        \u001b[49m\u001b[43mlimit\u001b[49m\u001b[38;5;241;43m=\u001b[39;49m\u001b[43mlimit\u001b[49m\u001b[43m,\u001b[49m\n\u001b[1;32m     67\u001b[0m \u001b[43m        \u001b[49m\u001b[43moffset\u001b[49m\u001b[38;5;241;43m=\u001b[39;49m\u001b[43moffset\u001b[49m\u001b[43m,\u001b[49m\n\u001b[1;32m     68\u001b[0m \u001b[43m        \u001b[49m\u001b[43mafter\u001b[49m\u001b[38;5;241;43m=\u001b[39;49m\u001b[43mafter\u001b[49m\u001b[43m,\u001b[49m\n\u001b[1;32m     69\u001b[0m \u001b[43m        \u001b[49m\u001b[43mfilters\u001b[49m\u001b[38;5;241;43m=\u001b[39;49m\u001b[43mfilters\u001b[49m\u001b[43m,\u001b[49m\n\u001b[1;32m     70\u001b[0m \u001b[43m        \u001b[49m\u001b[43msort\u001b[49m\u001b[38;5;241;43m=\u001b[39;49m\u001b[43msort\u001b[49m\u001b[43m,\u001b[49m\n\u001b[1;32m     71\u001b[0m \u001b[43m        \u001b[49m\u001b[43mreturn_metadata\u001b[49m\u001b[38;5;241;43m=\u001b[39;49m\u001b[38;5;28;43mself\u001b[39;49m\u001b[38;5;241;43m.\u001b[39;49m\u001b[43m_parse_return_metadata\u001b[49m\u001b[43m(\u001b[49m\u001b[43mreturn_metadata\u001b[49m\u001b[43m,\u001b[49m\u001b[43m \u001b[49m\u001b[43minclude_vector\u001b[49m\u001b[43m)\u001b[49m\u001b[43m,\u001b[49m\n\u001b[1;32m     72\u001b[0m \u001b[43m        \u001b[49m\u001b[43mreturn_properties\u001b[49m\u001b[38;5;241;43m=\u001b[39;49m\u001b[38;5;28;43mself\u001b[39;49m\u001b[38;5;241;43m.\u001b[39;49m\u001b[43m_parse_return_properties\u001b[49m\u001b[43m(\u001b[49m\u001b[43mreturn_properties\u001b[49m\u001b[43m)\u001b[49m\u001b[43m,\u001b[49m\n\u001b[1;32m     73\u001b[0m \u001b[43m        \u001b[49m\u001b[43mreturn_references\u001b[49m\u001b[38;5;241;43m=\u001b[39;49m\u001b[38;5;28;43mself\u001b[39;49m\u001b[38;5;241;43m.\u001b[39;49m\u001b[43m_parse_return_references\u001b[49m\u001b[43m(\u001b[49m\u001b[43mreturn_references\u001b[49m\u001b[43m)\u001b[49m\u001b[43m,\u001b[49m\n\u001b[1;32m     74\u001b[0m \u001b[43m    \u001b[49m\u001b[43m)\u001b[49m\n\u001b[1;32m     75\u001b[0m     \u001b[38;5;28;01mreturn\u001b[39;00m \u001b[38;5;28mself\u001b[39m\u001b[38;5;241m.\u001b[39m_result_to_query_return(\n\u001b[1;32m     76\u001b[0m         res,\n\u001b[1;32m     77\u001b[0m         _QueryOptions\u001b[38;5;241m.\u001b[39mfrom_input(\n\u001b[0;32m   (...)\u001b[0m\n\u001b[1;32m     85\u001b[0m         return_references,\n\u001b[1;32m     86\u001b[0m     )\n",
      "File \u001b[0;32m~/.local/lib/python3.12/site-packages/weaviate/collections/grpc/query.py:146\u001b[0m, in \u001b[0;36m_QueryGRPC.get\u001b[0;34m(self, limit, offset, after, filters, sort, return_metadata, return_properties, return_references, generative, rerank)\u001b[0m\n\u001b[1;32m    143\u001b[0m \u001b[38;5;28;01melse\u001b[39;00m:\n\u001b[1;32m    144\u001b[0m     sort_by \u001b[38;5;241m=\u001b[39m \u001b[38;5;28;01mNone\u001b[39;00m\n\u001b[0;32m--> 146\u001b[0m request \u001b[38;5;241m=\u001b[39m \u001b[38;5;28;43mself\u001b[39;49m\u001b[38;5;241;43m.\u001b[39;49m\u001b[43m__create_request\u001b[49m\u001b[43m(\u001b[49m\n\u001b[1;32m    147\u001b[0m \u001b[43m    \u001b[49m\u001b[43mafter\u001b[49m\u001b[38;5;241;43m=\u001b[39;49m\u001b[43mafter\u001b[49m\u001b[43m,\u001b[49m\n\u001b[1;32m    148\u001b[0m \u001b[43m    \u001b[49m\u001b[43mlimit\u001b[49m\u001b[38;5;241;43m=\u001b[39;49m\u001b[43mlimit\u001b[49m\u001b[43m,\u001b[49m\n\u001b[1;32m    149\u001b[0m \u001b[43m    \u001b[49m\u001b[43moffset\u001b[49m\u001b[38;5;241;43m=\u001b[39;49m\u001b[43moffset\u001b[49m\u001b[43m,\u001b[49m\n\u001b[1;32m    150\u001b[0m \u001b[43m    \u001b[49m\u001b[43mfilters\u001b[49m\u001b[38;5;241;43m=\u001b[39;49m\u001b[43mfilters\u001b[49m\u001b[43m,\u001b[49m\n\u001b[1;32m    151\u001b[0m \u001b[43m    \u001b[49m\u001b[43mmetadata\u001b[49m\u001b[38;5;241;43m=\u001b[39;49m\u001b[43mreturn_metadata\u001b[49m\u001b[43m,\u001b[49m\n\u001b[1;32m    152\u001b[0m \u001b[43m    \u001b[49m\u001b[43mreturn_properties\u001b[49m\u001b[38;5;241;43m=\u001b[39;49m\u001b[43mreturn_properties\u001b[49m\u001b[43m,\u001b[49m\n\u001b[1;32m    153\u001b[0m \u001b[43m    \u001b[49m\u001b[43mreturn_references\u001b[49m\u001b[38;5;241;43m=\u001b[39;49m\u001b[43mreturn_references\u001b[49m\u001b[43m,\u001b[49m\n\u001b[1;32m    154\u001b[0m \u001b[43m    \u001b[49m\u001b[43mgenerative\u001b[49m\u001b[38;5;241;43m=\u001b[39;49m\u001b[43mgenerative\u001b[49m\u001b[43m,\u001b[49m\n\u001b[1;32m    155\u001b[0m \u001b[43m    \u001b[49m\u001b[43mrerank\u001b[49m\u001b[38;5;241;43m=\u001b[39;49m\u001b[43mrerank\u001b[49m\u001b[43m,\u001b[49m\n\u001b[1;32m    156\u001b[0m \u001b[43m    \u001b[49m\u001b[43msort_by\u001b[49m\u001b[38;5;241;43m=\u001b[39;49m\u001b[43msort_by\u001b[49m\u001b[43m,\u001b[49m\n\u001b[1;32m    157\u001b[0m \u001b[43m\u001b[49m\u001b[43m)\u001b[49m\n\u001b[1;32m    159\u001b[0m \u001b[38;5;28;01mreturn\u001b[39;00m \u001b[38;5;28mself\u001b[39m\u001b[38;5;241m.\u001b[39m__call(request)\n",
      "File \u001b[0;32m~/.local/lib/python3.12/site-packages/weaviate/collections/grpc/query.py:674\u001b[0m, in \u001b[0;36m_QueryGRPC.__create_request\u001b[0;34m(self, limit, offset, after, filters, metadata, return_properties, return_references, generative, rerank, autocut, group_by, near_vector, sort_by, hybrid_search, bm25, near_object, near_text, near_audio, near_depth, near_image, near_imu, near_thermal, near_video)\u001b[0m\n\u001b[1;32m    647\u001b[0m \u001b[38;5;28;01mdef\u001b[39;00m \u001b[38;5;21m__create_request\u001b[39m(\n\u001b[1;32m    648\u001b[0m     \u001b[38;5;28mself\u001b[39m,\n\u001b[1;32m    649\u001b[0m     limit: Optional[\u001b[38;5;28mint\u001b[39m] \u001b[38;5;241m=\u001b[39m \u001b[38;5;28;01mNone\u001b[39;00m,\n\u001b[0;32m   (...)\u001b[0m\n\u001b[1;32m    671\u001b[0m     near_video: Optional[search_get_pb2\u001b[38;5;241m.\u001b[39mNearVideoSearch] \u001b[38;5;241m=\u001b[39m \u001b[38;5;28;01mNone\u001b[39;00m,\n\u001b[1;32m    672\u001b[0m ) \u001b[38;5;241m-\u001b[39m\u001b[38;5;241m>\u001b[39m search_get_pb2\u001b[38;5;241m.\u001b[39mSearchRequest:\n\u001b[1;32m    673\u001b[0m     \u001b[38;5;28;01mif\u001b[39;00m \u001b[38;5;28mself\u001b[39m\u001b[38;5;241m.\u001b[39m_validate_arguments:\n\u001b[0;32m--> 674\u001b[0m         \u001b[43m_validate_input\u001b[49m\u001b[43m(\u001b[49m\n\u001b[1;32m    675\u001b[0m \u001b[43m            \u001b[49m\u001b[43m[\u001b[49m\n\u001b[1;32m    676\u001b[0m \u001b[43m                \u001b[49m\u001b[43m_ValidateArgument\u001b[49m\u001b[43m(\u001b[49m\u001b[43m[\u001b[49m\u001b[38;5;28;43mint\u001b[39;49m\u001b[43m,\u001b[49m\u001b[43m \u001b[49m\u001b[38;5;28;43;01mNone\u001b[39;49;00m\u001b[43m]\u001b[49m\u001b[43m,\u001b[49m\u001b[43m \u001b[49m\u001b[38;5;124;43m\"\u001b[39;49m\u001b[38;5;124;43mlimit\u001b[39;49m\u001b[38;5;124;43m\"\u001b[39;49m\u001b[43m,\u001b[49m\u001b[43m \u001b[49m\u001b[43mlimit\u001b[49m\u001b[43m)\u001b[49m\u001b[43m,\u001b[49m\n\u001b[1;32m    677\u001b[0m \u001b[43m                \u001b[49m\u001b[43m_ValidateArgument\u001b[49m\u001b[43m(\u001b[49m\u001b[43m[\u001b[49m\u001b[38;5;28;43mint\u001b[39;49m\u001b[43m,\u001b[49m\u001b[43m \u001b[49m\u001b[38;5;28;43;01mNone\u001b[39;49;00m\u001b[43m]\u001b[49m\u001b[43m,\u001b[49m\u001b[43m \u001b[49m\u001b[38;5;124;43m\"\u001b[39;49m\u001b[38;5;124;43moffset\u001b[39;49m\u001b[38;5;124;43m\"\u001b[39;49m\u001b[43m,\u001b[49m\u001b[43m \u001b[49m\u001b[43moffset\u001b[49m\u001b[43m)\u001b[49m\u001b[43m,\u001b[49m\n\u001b[1;32m    678\u001b[0m \u001b[43m                \u001b[49m\u001b[43m_ValidateArgument\u001b[49m\u001b[43m(\u001b[49m\u001b[43m[\u001b[49m\u001b[43muuid_lib\u001b[49m\u001b[38;5;241;43m.\u001b[39;49m\u001b[43mUUID\u001b[49m\u001b[43m,\u001b[49m\u001b[43m \u001b[49m\u001b[38;5;28;43mstr\u001b[39;49m\u001b[43m,\u001b[49m\u001b[43m \u001b[49m\u001b[38;5;28;43;01mNone\u001b[39;49;00m\u001b[43m]\u001b[49m\u001b[43m,\u001b[49m\u001b[43m \u001b[49m\u001b[38;5;124;43m\"\u001b[39;49m\u001b[38;5;124;43mafter\u001b[39;49m\u001b[38;5;124;43m\"\u001b[39;49m\u001b[43m,\u001b[49m\u001b[43m \u001b[49m\u001b[43mafter\u001b[49m\u001b[43m)\u001b[49m\u001b[43m,\u001b[49m\n\u001b[1;32m    679\u001b[0m \u001b[43m                \u001b[49m\u001b[43m_ValidateArgument\u001b[49m\u001b[43m(\u001b[49m\u001b[43m[\u001b[49m\u001b[43m_Filters\u001b[49m\u001b[43m,\u001b[49m\u001b[43m \u001b[49m\u001b[38;5;28;43;01mNone\u001b[39;49;00m\u001b[43m]\u001b[49m\u001b[43m,\u001b[49m\u001b[43m \u001b[49m\u001b[38;5;124;43m\"\u001b[39;49m\u001b[38;5;124;43mfilters\u001b[39;49m\u001b[38;5;124;43m\"\u001b[39;49m\u001b[43m,\u001b[49m\u001b[43m \u001b[49m\u001b[43mfilters\u001b[49m\u001b[43m)\u001b[49m\u001b[43m,\u001b[49m\n\u001b[1;32m    680\u001b[0m \u001b[43m                \u001b[49m\u001b[43m_ValidateArgument\u001b[49m\u001b[43m(\u001b[49m\u001b[43m[\u001b[49m\u001b[43m_MetadataQuery\u001b[49m\u001b[43m,\u001b[49m\u001b[43m \u001b[49m\u001b[38;5;28;43;01mNone\u001b[39;49;00m\u001b[43m]\u001b[49m\u001b[43m,\u001b[49m\u001b[43m \u001b[49m\u001b[38;5;124;43m\"\u001b[39;49m\u001b[38;5;124;43mmetadata\u001b[39;49m\u001b[38;5;124;43m\"\u001b[39;49m\u001b[43m,\u001b[49m\u001b[43m \u001b[49m\u001b[43mmetadata\u001b[49m\u001b[43m)\u001b[49m\u001b[43m,\u001b[49m\n\u001b[1;32m    681\u001b[0m \u001b[43m                \u001b[49m\u001b[43m_ValidateArgument\u001b[49m\u001b[43m(\u001b[49m\u001b[43m[\u001b[49m\u001b[43m_Generative\u001b[49m\u001b[43m,\u001b[49m\u001b[43m \u001b[49m\u001b[38;5;28;43;01mNone\u001b[39;49;00m\u001b[43m]\u001b[49m\u001b[43m,\u001b[49m\u001b[43m \u001b[49m\u001b[38;5;124;43m\"\u001b[39;49m\u001b[38;5;124;43mgenerative\u001b[39;49m\u001b[38;5;124;43m\"\u001b[39;49m\u001b[43m,\u001b[49m\u001b[43m \u001b[49m\u001b[43mgenerative\u001b[49m\u001b[43m)\u001b[49m\u001b[43m,\u001b[49m\n\u001b[1;32m    682\u001b[0m \u001b[43m                \u001b[49m\u001b[43m_ValidateArgument\u001b[49m\u001b[43m(\u001b[49m\u001b[43m[\u001b[49m\u001b[43mRerank\u001b[49m\u001b[43m,\u001b[49m\u001b[43m \u001b[49m\u001b[38;5;28;43;01mNone\u001b[39;49;00m\u001b[43m]\u001b[49m\u001b[43m,\u001b[49m\u001b[43m \u001b[49m\u001b[38;5;124;43m\"\u001b[39;49m\u001b[38;5;124;43mrerank\u001b[39;49m\u001b[38;5;124;43m\"\u001b[39;49m\u001b[43m,\u001b[49m\u001b[43m \u001b[49m\u001b[43mrerank\u001b[49m\u001b[43m)\u001b[49m\u001b[43m,\u001b[49m\n\u001b[1;32m    683\u001b[0m \u001b[43m                \u001b[49m\u001b[43m_ValidateArgument\u001b[49m\u001b[43m(\u001b[49m\u001b[43m[\u001b[49m\u001b[38;5;28;43mint\u001b[39;49m\u001b[43m,\u001b[49m\u001b[43m \u001b[49m\u001b[38;5;28;43;01mNone\u001b[39;49;00m\u001b[43m]\u001b[49m\u001b[43m,\u001b[49m\u001b[43m \u001b[49m\u001b[38;5;124;43m\"\u001b[39;49m\u001b[38;5;124;43mautocut\u001b[39;49m\u001b[38;5;124;43m\"\u001b[39;49m\u001b[43m,\u001b[49m\u001b[43m \u001b[49m\u001b[43mautocut\u001b[49m\u001b[43m)\u001b[49m\u001b[43m,\u001b[49m\n\u001b[1;32m    684\u001b[0m \u001b[43m                \u001b[49m\u001b[43m_ValidateArgument\u001b[49m\u001b[43m(\u001b[49m\u001b[43m[\u001b[49m\u001b[43m_GroupBy\u001b[49m\u001b[43m,\u001b[49m\u001b[43m \u001b[49m\u001b[38;5;28;43;01mNone\u001b[39;49;00m\u001b[43m]\u001b[49m\u001b[43m,\u001b[49m\u001b[43m \u001b[49m\u001b[38;5;124;43m\"\u001b[39;49m\u001b[38;5;124;43mgroup_by\u001b[39;49m\u001b[38;5;124;43m\"\u001b[39;49m\u001b[43m,\u001b[49m\u001b[43m \u001b[49m\u001b[43mgroup_by\u001b[49m\u001b[43m)\u001b[49m\u001b[43m,\u001b[49m\n\u001b[1;32m    685\u001b[0m \u001b[43m                \u001b[49m\u001b[43m_ValidateArgument\u001b[49m\u001b[43m(\u001b[49m\n\u001b[1;32m    686\u001b[0m \u001b[43m                    \u001b[49m\u001b[43m[\u001b[49m\u001b[38;5;28;43mstr\u001b[39;49m\u001b[43m,\u001b[49m\u001b[43m \u001b[49m\u001b[43mQueryNested\u001b[49m\u001b[43m,\u001b[49m\u001b[43m \u001b[49m\u001b[43mSequence\u001b[49m\u001b[43m,\u001b[49m\u001b[43m \u001b[49m\u001b[38;5;28;43;01mNone\u001b[39;49;00m\u001b[43m]\u001b[49m\u001b[43m,\u001b[49m\u001b[43m \u001b[49m\u001b[38;5;124;43m\"\u001b[39;49m\u001b[38;5;124;43mreturn_properties\u001b[39;49m\u001b[38;5;124;43m\"\u001b[39;49m\u001b[43m,\u001b[49m\u001b[43m \u001b[49m\u001b[43mreturn_properties\u001b[49m\n\u001b[1;32m    687\u001b[0m \u001b[43m                \u001b[49m\u001b[43m)\u001b[49m\u001b[43m,\u001b[49m\n\u001b[1;32m    688\u001b[0m \u001b[43m                \u001b[49m\u001b[43m_ValidateArgument\u001b[49m\u001b[43m(\u001b[49m\n\u001b[1;32m    689\u001b[0m \u001b[43m                    \u001b[49m\u001b[43m[\u001b[49m\u001b[43m_QueryReference\u001b[49m\u001b[43m,\u001b[49m\u001b[43m \u001b[49m\u001b[43mSequence\u001b[49m\u001b[43m,\u001b[49m\u001b[43m \u001b[49m\u001b[38;5;28;43;01mNone\u001b[39;49;00m\u001b[43m]\u001b[49m\u001b[43m,\u001b[49m\u001b[43m \u001b[49m\u001b[38;5;124;43m\"\u001b[39;49m\u001b[38;5;124;43mreturn_references\u001b[39;49m\u001b[38;5;124;43m\"\u001b[39;49m\u001b[43m,\u001b[49m\u001b[43m \u001b[49m\u001b[43mreturn_references\u001b[49m\n\u001b[1;32m    690\u001b[0m \u001b[43m                \u001b[49m\u001b[43m)\u001b[49m\u001b[43m,\u001b[49m\n\u001b[1;32m    691\u001b[0m \u001b[43m            \u001b[49m\u001b[43m]\u001b[49m\n\u001b[1;32m    692\u001b[0m \u001b[43m        \u001b[49m\u001b[43m)\u001b[49m\n\u001b[1;32m    693\u001b[0m         \u001b[38;5;28;01mif\u001b[39;00m \u001b[38;5;28misinstance\u001b[39m(return_properties, Sequence):\n\u001b[1;32m    694\u001b[0m             \u001b[38;5;28;01mfor\u001b[39;00m prop \u001b[38;5;129;01min\u001b[39;00m return_properties:\n",
      "File \u001b[0;32m~/.local/lib/python3.12/site-packages/weaviate/validator.py:32\u001b[0m, in \u001b[0;36m_validate_input\u001b[0;34m(inputs)\u001b[0m\n\u001b[1;32m     30\u001b[0m \u001b[38;5;28;01mfor\u001b[39;00m validate \u001b[38;5;129;01min\u001b[39;00m inputs:\n\u001b[1;32m     31\u001b[0m     \u001b[38;5;28;01mif\u001b[39;00m \u001b[38;5;129;01mnot\u001b[39;00m \u001b[38;5;28many\u001b[39m(_is_valid(exp, validate\u001b[38;5;241m.\u001b[39mvalue) \u001b[38;5;28;01mfor\u001b[39;00m exp \u001b[38;5;129;01min\u001b[39;00m validate\u001b[38;5;241m.\u001b[39mexpected):\n\u001b[0;32m---> 32\u001b[0m         \u001b[38;5;28;01mraise\u001b[39;00m WeaviateInvalidInputError(\n\u001b[1;32m     33\u001b[0m             \u001b[38;5;124mf\u001b[39m\u001b[38;5;124m\"\u001b[39m\u001b[38;5;124mArgument \u001b[39m\u001b[38;5;124m'\u001b[39m\u001b[38;5;132;01m{\u001b[39;00mvalidate\u001b[38;5;241m.\u001b[39mname\u001b[38;5;132;01m}\u001b[39;00m\u001b[38;5;124m'\u001b[39m\u001b[38;5;124m must be one of: \u001b[39m\u001b[38;5;132;01m{\u001b[39;00mvalidate\u001b[38;5;241m.\u001b[39mexpected\u001b[38;5;132;01m}\u001b[39;00m\u001b[38;5;124m, but got \u001b[39m\u001b[38;5;132;01m{\u001b[39;00m\u001b[38;5;28mtype\u001b[39m(validate\u001b[38;5;241m.\u001b[39mvalue)\u001b[38;5;132;01m}\u001b[39;00m\u001b[38;5;124m\"\u001b[39m\n\u001b[1;32m     34\u001b[0m         )\n",
      "\u001b[0;31mWeaviateInvalidInputError\u001b[0m: Invalid input provided: Argument 'filters' must be one of: [<class 'weaviate.collections.classes.filters._Filters'>, None], but got <class 'weaviate.collections.classes.filters._FilterByProperty'>."
     ]
    }
   ],
   "source": [
    "from weaviate.classes.query import Filter\n",
    "\n",
    "# wiki = client.collections.get(WIKI_NAME)\n",
    "\n",
    "response = wiki.query.fetch_objects(\n",
    "    limit=5,\n",
    "    # TODO: filter by property title, search for something like music\n",
    "    filters=Filter.by_property(\"title\")\n",
    ")\n",
    "\n",
    "for item in response.objects:\n",
    "    print_properties(item)"
   ]
  },
  {
   "cell_type": "code",
   "execution_count": 14,
   "metadata": {},
   "outputs": [
    {
     "name": "stdout",
     "output_type": "stream",
     "text": [
      "{\n",
      "  \"text\": \"By its very nature, the evidence for this idea comes mainly from palaeontology. It is not claimed that this pattern is universal, but it is common. There are now a wide range of examples from many different taxa.\",\n",
      "  \"title\": \"Mosaic evolution\",\n",
      "  \"url\": \"https://simple.wikipedia.org/wiki/Mosaic%20evolution\",\n",
      "  \"wiki_id\": \"20231101.simple_290228_4\"\n",
      "}\n",
      "{\n",
      "  \"text\": \"In 1886, Adolf Mayer first described the tobacco mosaic disease that could be transferred between plants, similar to bacterial infections.\",\n",
      "  \"title\": \"Tobacco mosaic virus\",\n",
      "  \"url\": \"https://simple.wikipedia.org/wiki/Tobacco%20mosaic%20virus\",\n",
      "  \"wiki_id\": \"20231101.simple_528724_2\"\n",
      "}\n",
      "{\n",
      "  \"text\": \"\\\"Magic\\\" by Pilot is used, its 3rd use in a movie soundtrack after Disney's Herbie Fully Loaded and Happy Gilmore\",\n",
      "  \"title\": \"The Magic Roundabout (movie)\",\n",
      "  \"url\": \"https://simple.wikipedia.org/wiki/The%20Magic%20Roundabout%20%28movie%29\",\n",
      "  \"wiki_id\": \"20231101.simple_117801_2\"\n",
      "}\n",
      "{\n",
      "  \"text\": \"What enables the Krebs cycle to perform metabolic changes to fats, carbohydrates, and proteins is energy, which can be defined as the ability or capacity to do work.\",\n",
      "  \"title\": \"Metabolic rate\",\n",
      "  \"url\": \"https://simple.wikipedia.org/wiki/Metabolic%20rate\",\n",
      "  \"wiki_id\": \"20231101.simple_368779_5\"\n",
      "}\n",
      "{\n",
      "  \"text\": \"The electrons and the positive ions in the metal have a strong attractive force between them.  Therefore, metals often have high melting or boiling points. The principle is similar to that of ionic bonds.\",\n",
      "  \"title\": \"Metallic bond\",\n",
      "  \"url\": \"https://simple.wikipedia.org/wiki/Metallic%20bond\",\n",
      "  \"wiki_id\": \"20231101.simple_54960_2\"\n",
      "}\n"
     ]
    }
   ],
   "source": [
    "from weaviate.classes.query import Filter\n",
    "\n",
    "response = wiki.query.fetch_objects(\n",
    "    limit=5,\n",
    "    # NOTE: you can use & as AND operator and | as OR operator\n",
    "    filters=Filter.by_property(\"title\").like(\"m*ic\") & Filter.by_property(\"title\").not_equal(\"music\")\n",
    ")\n",
    "\n",
    "for item in response.objects:\n",
    "    print_properties(item)"
   ]
  },
  {
   "cell_type": "markdown",
   "metadata": {},
   "source": [
    "## Search with filters\n",
    "[Docs - Filters](https://weaviate.io/developers/weaviate/search/filters)"
   ]
  },
  {
   "cell_type": "code",
   "execution_count": 15,
   "metadata": {},
   "outputs": [
    {
     "name": "stdout",
     "output_type": "stream",
     "text": [
      "{\n",
      "  \"text\": \"The tuba is the biggest of all the brass musical instruments. They are the newest part of the symphony orchestra, first showing up in the mid-19th century. Most orchestras have a tuba now. The standard tuba has about 16 feet of tubes.\",\n",
      "  \"title\": \"Tuba\",\n",
      "  \"url\": \"https://simple.wikipedia.org/wiki/Tuba\",\n",
      "  \"wiki_id\": \"20231101.simple_11118_0\"\n",
      "}\n",
      "{\n",
      "  \"text\": \"The orchestra needs 3 flutes (one doubling piccolo), 3 oboes (one doubling cor anglais), 3 clarinets (one doubling bass clarinet), 3 bassoons (one doubling contrabassoon), 4 French horns, 3 trumpets, 3 trombones, tuba, timpani, side drum, bass drum, cymbals, triangle, tamtam, 2 harps and strings\",\n",
      "  \"title\": \"Concerto for Orchestra (Bart\\u00f3k)\",\n",
      "  \"url\": \"https://simple.wikipedia.org/wiki/Concerto%20for%20Orchestra%20%28Bart%C3%B3k%29\",\n",
      "  \"wiki_id\": \"20231101.simple_193305_4\"\n",
      "}\n",
      "{\n",
      "  \"text\": \"The simplest type of mechanical aid is the use of wooden \\\"fingers\\\" that can be closed to press the string down and fret the C#, D, Eb, or E notes. This system is particularly useful for basslines that have a repeating pedal point such as a low D, because once the note is locked in place with the mechanical \\\"finger\\\", the lowest string then sounds a different note when it is played \\\"open\\\" (e.g., a low D).\",\n",
      "  \"title\": \"Double bass\",\n",
      "  \"url\": \"https://simple.wikipedia.org/wiki/Double%20bass\",\n",
      "  \"wiki_id\": \"20231101.simple_16629_10\"\n",
      "}\n",
      "{\n",
      "  \"text\": \"Range (music), the distance from the lowest note to the highest note that a musical instrument can play\",\n",
      "  \"title\": \"Range\",\n",
      "  \"url\": \"https://simple.wikipedia.org/wiki/Range\",\n",
      "  \"wiki_id\": \"20231101.simple_498982_0\"\n",
      "}\n",
      "{\n",
      "  \"text\": \"Bagpipes have always been folk instruments, but after the 15th century some were used for court music, and others have survived as military instruments. For the chanter, two single-reed cane pipes are placed parallel, one pipe often sounding a drone or other accompaniment to the other pipe.Oct 6, 2023.\",\n",
      "  \"title\": \"Bagpipes\",\n",
      "  \"url\": \"https://simple.wikipedia.org/wiki/Bagpipes\",\n",
      "  \"wiki_id\": \"20231101.simple_112374_3\"\n",
      "}\n"
     ]
    }
   ],
   "source": [
    "from weaviate.classes.query import Filter\n",
    "\n",
    "response = wiki.query.near_text(\n",
    "    query=\"musical instruments\",\n",
    "    limit=5,\n",
    "    filters=Filter.by_property(\"title\").not_equal(\"music\")\n",
    ")\n",
    "\n",
    "for item in response.objects:\n",
    "    print_properties(item)"
   ]
  },
  {
   "cell_type": "markdown",
   "metadata": {},
   "source": [
    "## Keyword Search\n",
    "\n",
    "[Docs - keyword/bm25](https://weaviate.io/developers/weaviate/search/bm25)"
   ]
  },
  {
   "cell_type": "code",
   "execution_count": 19,
   "metadata": {},
   "outputs": [
    {
     "name": "stdout",
     "output_type": "stream",
     "text": [
      "{\n",
      "  \"text\": \"Solf\\u00e8ge (sometimes called solfa) is the way tones are named. It was made in order to give a name to the several tones and pitches. For example, the eight basic notes \\\"Do, Re, Mi, Fa, So, La, Ti, Do\\\" are just the names of the eight notes that confirm the major scale.\",\n",
      "  \"title\": \"Music\",\n",
      "  \"url\": \"https://simple.wikipedia.org/wiki/Music\",\n",
      "  \"wiki_id\": \"20231101.simple_472_41\"\n",
      "}\n",
      "{\n",
      "  \"text\": \"The range of a musical instrument is the distance from the lowest to the highest pitch it can play. For a singing voice, this is known as vocal range.\",\n",
      "  \"title\": \"Range (music)\",\n",
      "  \"url\": \"https://simple.wikipedia.org/wiki/Range%20%28music%29\",\n",
      "  \"wiki_id\": \"20231101.simple_84201_0\"\n",
      "}\n",
      "{\n",
      "  \"text\": \"Double sharps also exist; these have the symbol  and raise a note by two semitones, or a whole step. Less often there are half or three-quarter sharps.\",\n",
      "  \"title\": \"Sharp (music)\",\n",
      "  \"url\": \"https://simple.wikipedia.org/wiki/Sharp%20%28music%29\",\n",
      "  \"wiki_id\": \"20231101.simple_233800_2\"\n",
      "}\n",
      "{\n",
      "  \"text\": \"Today the carol is represented almost by the Christmas carol, the Advent carol, and to a much lesser extent by the Easter carol, however despite their present association with religion, this has not always been the case.\",\n",
      "  \"title\": \"Carol (music)\",\n",
      "  \"url\": \"https://simple.wikipedia.org/wiki/Carol%20%28music%29\",\n",
      "  \"wiki_id\": \"20231101.simple_978667_1\"\n",
      "}\n",
      "{\n",
      "  \"text\": \"Many times the chance to get a new song issued as an A-side creates competition between members of bands, or teams of songwriters. John Lennon and Paul McCartney of the Beatles tried to write better songs than each other, to get more A-sides than the other. George Harrison, also a Beatle, rarely had his songs chosen for singles, but had a hit with \\\"Something\\\" for the band.\",\n",
      "  \"title\": \"Single (music)\",\n",
      "  \"url\": \"https://simple.wikipedia.org/wiki/Single%20%28music%29\",\n",
      "  \"wiki_id\": \"20231101.simple_60008_2\"\n",
      "}\n"
     ]
    }
   ],
   "source": [
    "# TODO: use bm25 query, search for musical instruments, set limit to 5\n",
    "\n",
    "response = wiki.query.bm25(\"Music\", limit=5)\n",
    "\n",
    "for item in response.objects:\n",
    "    print_properties(item)"
   ]
  },
  {
   "cell_type": "code",
   "execution_count": 21,
   "metadata": {},
   "outputs": [
    {
     "name": "stdout",
     "output_type": "stream",
     "text": [
      "{\n",
      "  \"text\": \"Thousands of years ago people used the horns of dead animals for musical instruments (see horn (postal horn)). In later times, they were used for carrying gunpowder.\",\n",
      "  \"title\": \"Horn (anatomy)\",\n",
      "  \"url\": \"https://simple.wikipedia.org/wiki/Horn%20%28anatomy%29\",\n",
      "  \"wiki_id\": \"20231101.simple_43954_2\"\n",
      "}\n",
      "4.7339887619018555\n",
      "{\n",
      "  \"text\": \"MTV Unplugged is a TV series. It showcases many popular musical artists usually playing acoustic instruments. It received the George Foster Peabody Award and 3 Primetime Emmy nominations.\",\n",
      "  \"title\": \"MTV Unplugged\",\n",
      "  \"url\": \"https://simple.wikipedia.org/wiki/MTV%20Unplugged\",\n",
      "  \"wiki_id\": \"20231101.simple_474372_0\"\n",
      "}\n",
      "4.383030414581299\n",
      "{\n",
      "  \"text\": \"The tuba is the biggest of all the brass musical instruments. They are the newest part of the symphony orchestra, first showing up in the mid-19th century. Most orchestras have a tuba now. The standard tuba has about 16 feet of tubes.\",\n",
      "  \"title\": \"Tuba\",\n",
      "  \"url\": \"https://simple.wikipedia.org/wiki/Tuba\",\n",
      "  \"wiki_id\": \"20231101.simple_11118_0\"\n",
      "}\n",
      "3.9443984031677246\n",
      "{\n",
      "  \"text\": \"Cats premiered at the New London Theatre in the West End on 11 May 1981. It closed on 11 May 2002 after 8,949 performances. It opened on Broadway on 7 October 1982 at the Winter Garden Theatre. It closed on 10 September 2000, after 7,485 performances.\",\n",
      "  \"title\": \"Cats (musical)\",\n",
      "  \"url\": \"https://simple.wikipedia.org/wiki/Cats%20%28musical%29\",\n",
      "  \"wiki_id\": \"20231101.simple_70788_1\"\n",
      "}\n",
      "3.801382541656494\n",
      "{\n",
      "  \"text\": \"Equal temperament (a special case of well-temperament), in which notes of the scale which are next to one another are all separated by logarithmically equal distances, which are integer powers of 21/12.\",\n",
      "  \"title\": \"Musical tuning\",\n",
      "  \"url\": \"https://simple.wikipedia.org/wiki/Musical%20tuning\",\n",
      "  \"wiki_id\": \"20231101.simple_72590_18\"\n",
      "}\n",
      "3.801382541656494\n"
     ]
    }
   ],
   "source": [
    "from weaviate.classes.query import MetadataQuery\n",
    "\n",
    "response = wiki.query.bm25(\n",
    "    query=\"musical instruments\",\n",
    "    # TODO: add query properties for \"text\" and \"title\"\n",
    "    query_properties=[\"title\", \"text\"],\n",
    "    limit=5,\n",
    "    return_metadata=MetadataQuery(score=True)\n",
    ")\n",
    "\n",
    "for item in response.objects:\n",
    "    print_properties(item)\n",
    "    print(item.metadata.score)"
   ]
  },
  {
   "cell_type": "code",
   "execution_count": 22,
   "metadata": {},
   "outputs": [
    {
     "name": "stdout",
     "output_type": "stream",
     "text": [
      "{\n",
      "  \"text\": \"Thousands of years ago people used the horns of dead animals for musical instruments (see horn (postal horn)). In later times, they were used for carrying gunpowder.\",\n",
      "  \"title\": \"Horn (anatomy)\",\n",
      "  \"url\": \"https://simple.wikipedia.org/wiki/Horn%20%28anatomy%29\",\n",
      "  \"wiki_id\": \"20231101.simple_43954_2\"\n",
      "}\n",
      "4.7339887619018555\n",
      "{\n",
      "  \"text\": \"Cats premiered at the New London Theatre in the West End on 11 May 1981. It closed on 11 May 2002 after 8,949 performances. It opened on Broadway on 7 October 1982 at the Winter Garden Theatre. It closed on 10 September 2000, after 7,485 performances.\",\n",
      "  \"title\": \"Cats (musical)\",\n",
      "  \"url\": \"https://simple.wikipedia.org/wiki/Cats%20%28musical%29\",\n",
      "  \"wiki_id\": \"20231101.simple_70788_1\"\n",
      "}\n",
      "4.688827991485596\n",
      "{\n",
      "  \"text\": \"Equal temperament (a special case of well-temperament), in which notes of the scale which are next to one another are all separated by logarithmically equal distances, which are integer powers of 21/12.\",\n",
      "  \"title\": \"Musical tuning\",\n",
      "  \"url\": \"https://simple.wikipedia.org/wiki/Musical%20tuning\",\n",
      "  \"wiki_id\": \"20231101.simple_72590_18\"\n",
      "}\n",
      "4.688827991485596\n",
      "{\n",
      "  \"text\": \"The Life - Book by Cy Coleman, David Newman, and Ira Gasman; lyrics by Ira Gasman; music by Cy Coleman\",\n",
      "  \"title\": \"Tony Award for Best Musical\",\n",
      "  \"url\": \"https://simple.wikipedia.org/wiki/Tony%20Award%20for%20Best%20Musical\",\n",
      "  \"wiki_id\": \"20231101.simple_73570_51\"\n",
      "}\n",
      "4.497249603271484\n",
      "{\n",
      "  \"text\": \"MTV Unplugged is a TV series. It showcases many popular musical artists usually playing acoustic instruments. It received the George Foster Peabody Award and 3 Primetime Emmy nominations.\",\n",
      "  \"title\": \"MTV Unplugged\",\n",
      "  \"url\": \"https://simple.wikipedia.org/wiki/MTV%20Unplugged\",\n",
      "  \"wiki_id\": \"20231101.simple_474372_0\"\n",
      "}\n",
      "4.383030414581299\n"
     ]
    }
   ],
   "source": [
    "from weaviate.classes.query import MetadataQuery\n",
    "\n",
    "response = wiki.query.bm25(\n",
    "    query=\"musical instruments\",\n",
    "    query_properties=[\"text\", \"title^3\"], # makes titel 3x more important\n",
    "    limit=5,\n",
    "    return_metadata=MetadataQuery(score=True)\n",
    ")\n",
    "\n",
    "for item in response.objects:\n",
    "    print_properties(item)\n",
    "    print(item.metadata.score)"
   ]
  },
  {
   "cell_type": "markdown",
   "metadata": {},
   "source": [
    "## Hybrid search\n",
    "[Docs - hybrid](https://weaviate.io/developers/weaviate/search/hybrid)"
   ]
  },
  {
   "cell_type": "code",
   "execution_count": 24,
   "metadata": {},
   "outputs": [
    {
     "name": "stdout",
     "output_type": "stream",
     "text": [
      "{\n",
      "  \"text\": \"The tuba is the biggest of all the brass musical instruments. They are the newest part of the symphony orchestra, first showing up in the mid-19th century. Most orchestras have a tuba now. The standard tuba has about 16 feet of tubes.\",\n",
      "  \"title\": \"Tuba\",\n",
      "  \"url\": \"https://simple.wikipedia.org/wiki/Tuba\",\n",
      "  \"wiki_id\": \"20231101.simple_11118_0\"\n",
      "}\n",
      "{\n",
      "  \"text\": \"Thousands of years ago people used the horns of dead animals for musical instruments (see horn (postal horn)). In later times, they were used for carrying gunpowder.\",\n",
      "  \"title\": \"Horn (anatomy)\",\n",
      "  \"url\": \"https://simple.wikipedia.org/wiki/Horn%20%28anatomy%29\",\n",
      "  \"wiki_id\": \"20231101.simple_43954_2\"\n",
      "}\n",
      "{\n",
      "  \"text\": \"Church music has varied enormously during the history of Christianity as different churches kept changing their ideas about what part music should have in religious worship.  Most church music is based on singing.  Music written for church choirs mostly used the words of the liturgy (the words used in services).  The organ is the most important musical instrument in church music, although from time to time many other instruments have been used as well.\",\n",
      "  \"title\": \"Church music\",\n",
      "  \"url\": \"https://simple.wikipedia.org/wiki/Church%20music\",\n",
      "  \"wiki_id\": \"20231101.simple_93102_1\"\n",
      "}\n",
      "{\n",
      "  \"text\": \"A shepherd had a lot of time to sit and think or amuse himself.  He often made simple instruments out of reeds that grew where he sat.  These instruments were often simple pan flutes or just pipes which were similar to bamboo pipes or a modern recorder.  Some shepherds learned to carve instruments out of wood.  An example is the fujara from Slovakia and southern Poland.\",\n",
      "  \"title\": \"Shepherd\",\n",
      "  \"url\": \"https://simple.wikipedia.org/wiki/Shepherd\",\n",
      "  \"wiki_id\": \"20231101.simple_70678_5\"\n",
      "}\n",
      "{\n",
      "  \"text\": \"Range (music), the distance from the lowest note to the highest note that a musical instrument can play\",\n",
      "  \"title\": \"Range\",\n",
      "  \"url\": \"https://simple.wikipedia.org/wiki/Range\",\n",
      "  \"wiki_id\": \"20231101.simple_498982_0\"\n",
      "}\n",
      "{\n",
      "  \"text\": \"A tamil pambai consists of two percussion instruments, two tambourines, two pumps, an urn, a snare drum, and a hammer.\",\n",
      "  \"title\": \"Pambai\",\n",
      "  \"url\": \"https://simple.wikipedia.org/wiki/Pambai\",\n",
      "  \"wiki_id\": \"20231101.simple_917661_4\"\n",
      "}\n",
      "{\n",
      "  \"text\": \"Bagpipes have always been folk instruments, but after the 15th century some were used for court music, and others have survived as military instruments. For the chanter, two single-reed cane pipes are placed parallel, one pipe often sounding a drone or other accompaniment to the other pipe.Oct 6, 2023.\",\n",
      "  \"title\": \"Bagpipes\",\n",
      "  \"url\": \"https://simple.wikipedia.org/wiki/Bagpipes\",\n",
      "  \"wiki_id\": \"20231101.simple_112374_3\"\n",
      "}\n",
      "{\n",
      "  \"text\": \"The range of a musical instrument is the distance from the lowest to the highest pitch it can play. For a singing voice, this is known as vocal range.\",\n",
      "  \"title\": \"Range (music)\",\n",
      "  \"url\": \"https://simple.wikipedia.org/wiki/Range%20%28music%29\",\n",
      "  \"wiki_id\": \"20231101.simple_84201_0\"\n",
      "}\n",
      "{\n",
      "  \"text\": \"The production of this older type of instrument had stopped in the end of the 19th century. In the second half of the 20th century people started to be more interested in period instruments, including harpsichord and fortepiano. Some of the more known fortepiano builders included in this 20th-century fortepiano revival have been Philip Belt, Margaret F. Hood, Christopher Clark and Paul McNulty.\",\n",
      "  \"title\": \"Piano\",\n",
      "  \"url\": \"https://simple.wikipedia.org/wiki/Piano\",\n",
      "  \"wiki_id\": \"20231101.simple_6693_6\"\n",
      "}\n",
      "{\n",
      "  \"text\": \"The Guildhall School does not just teach students at the school. They also organize music examinations in the whole of Britain for anyone learning musical instruments. In 2004 these examinations joined with those of Trinity College London to form Trinity Guildhall Examinations. Today, Trinity Guildhall offers qualifications in performing and teaching in music, speech and drama, and dance to external students (students who are not studying at the school).\",\n",
      "  \"title\": \"Guildhall School of Music and Drama\",\n",
      "  \"url\": \"https://simple.wikipedia.org/wiki/Guildhall%20School%20of%20Music%20and%20Drama\",\n",
      "  \"wiki_id\": \"20231101.simple_261963_2\"\n",
      "}\n"
     ]
    }
   ],
   "source": [
    "# TODO: use hybrid query, search for musical instruments, set alpha to 0.7, and limit to 5\n",
    "response = wiki.query.hybrid(\"musical instruments\", alpha=0.7)\n",
    "\n",
    "for item in response.objects:\n",
    "    print_properties(item)"
   ]
  },
  {
   "cell_type": "markdown",
   "metadata": {},
   "source": [
    "### Hybrid - select properties"
   ]
  },
  {
   "cell_type": "code",
   "execution_count": 26,
   "metadata": {},
   "outputs": [
    {
     "name": "stdout",
     "output_type": "stream",
     "text": [
      "{\n",
      "  \"text\": \"The tuba is the biggest of all the brass musical instruments. They are the newest part of the symphony orchestra, first showing up in the mid-19th century. Most orchestras have a tuba now. The standard tuba has about 16 feet of tubes.\",\n",
      "  \"title\": \"Tuba\",\n",
      "  \"url\": \"https://simple.wikipedia.org/wiki/Tuba\",\n",
      "  \"wiki_id\": \"20231101.simple_11118_0\"\n",
      "}\n",
      "{\n",
      "  \"text\": \"Church music has varied enormously during the history of Christianity as different churches kept changing their ideas about what part music should have in religious worship.  Most church music is based on singing.  Music written for church choirs mostly used the words of the liturgy (the words used in services).  The organ is the most important musical instrument in church music, although from time to time many other instruments have been used as well.\",\n",
      "  \"title\": \"Church music\",\n",
      "  \"url\": \"https://simple.wikipedia.org/wiki/Church%20music\",\n",
      "  \"wiki_id\": \"20231101.simple_93102_1\"\n",
      "}\n",
      "{\n",
      "  \"text\": \"The orchestra needs 3 flutes (one doubling piccolo), 3 oboes (one doubling cor anglais), 3 clarinets (one doubling bass clarinet), 3 bassoons (one doubling contrabassoon), 4 French horns, 3 trumpets, 3 trombones, tuba, timpani, side drum, bass drum, cymbals, triangle, tamtam, 2 harps and strings\",\n",
      "  \"title\": \"Concerto for Orchestra (Bart\\u00f3k)\",\n",
      "  \"url\": \"https://simple.wikipedia.org/wiki/Concerto%20for%20Orchestra%20%28Bart%C3%B3k%29\",\n",
      "  \"wiki_id\": \"20231101.simple_193305_4\"\n",
      "}\n",
      "{\n",
      "  \"text\": \"The simplest type of mechanical aid is the use of wooden \\\"fingers\\\" that can be closed to press the string down and fret the C#, D, Eb, or E notes. This system is particularly useful for basslines that have a repeating pedal point such as a low D, because once the note is locked in place with the mechanical \\\"finger\\\", the lowest string then sounds a different note when it is played \\\"open\\\" (e.g., a low D).\",\n",
      "  \"title\": \"Double bass\",\n",
      "  \"url\": \"https://simple.wikipedia.org/wiki/Double%20bass\",\n",
      "  \"wiki_id\": \"20231101.simple_16629_10\"\n",
      "}\n",
      "{\n",
      "  \"text\": \"Equal temperament (a special case of well-temperament), in which notes of the scale which are next to one another are all separated by logarithmically equal distances, which are integer powers of 21/12.\",\n",
      "  \"title\": \"Musical tuning\",\n",
      "  \"url\": \"https://simple.wikipedia.org/wiki/Musical%20tuning\",\n",
      "  \"wiki_id\": \"20231101.simple_72590_18\"\n",
      "}\n"
     ]
    }
   ],
   "source": [
    "response = wiki.query.hybrid(\n",
    "    query=\"musical instruments\",\n",
    "    alpha=0.7,\n",
    "    limit=5,\n",
    "    # TODO: add query properties for \"title\"\n",
    "    query_properties=[\"title\"]\n",
    ")\n",
    "\n",
    "for item in response.objects:\n",
    "    print_properties(item)"
   ]
  },
  {
   "cell_type": "markdown",
   "metadata": {},
   "source": [
    "### Hybrid - Explain score"
   ]
  },
  {
   "cell_type": "code",
   "execution_count": 25,
   "metadata": {},
   "outputs": [
    {
     "name": "stdout",
     "output_type": "stream",
     "text": [
      "{\n",
      "  \"text\": \"The tuba is the biggest of all the brass musical instruments. They are the newest part of the symphony orchestra, first showing up in the mid-19th century. Most orchestras have a tuba now. The standard tuba has about 16 feet of tubes.\",\n",
      "  \"title\": \"Tuba\",\n",
      "  \"url\": \"https://simple.wikipedia.org/wiki/Tuba\",\n",
      "  \"wiki_id\": \"20231101.simple_11118_0\"\n",
      "}\n",
      "0.699999988079071\n",
      "\n",
      "Hybrid (Result Set vector,hybridVector) Document 2e92b095-929d-5949-9423-25b0df1807af: original score 0.47463524, normalized score: 0.7\n",
      "{\n",
      "  \"text\": \"Church music has varied enormously during the history of Christianity as different churches kept changing their ideas about what part music should have in religious worship.  Most church music is based on singing.  Music written for church choirs mostly used the words of the liturgy (the words used in services).  The organ is the most important musical instrument in church music, although from time to time many other instruments have been used as well.\",\n",
      "  \"title\": \"Church music\",\n",
      "  \"url\": \"https://simple.wikipedia.org/wiki/Church%20music\",\n",
      "  \"wiki_id\": \"20231101.simple_93102_1\"\n",
      "}\n",
      "0.6169610619544983\n",
      "\n",
      "Hybrid (Result Set vector,hybridVector) Document 91eb0c1f-7ff5-5a36-a417-0c4dcf9db0d5: original score 0.45085347, normalized score: 0.61696106\n",
      "{\n",
      "  \"text\": \"The orchestra needs 3 flutes (one doubling piccolo), 3 oboes (one doubling cor anglais), 3 clarinets (one doubling bass clarinet), 3 bassoons (one doubling contrabassoon), 4 French horns, 3 trumpets, 3 trombones, tuba, timpani, side drum, bass drum, cymbals, triangle, tamtam, 2 harps and strings\",\n",
      "  \"title\": \"Concerto for Orchestra (Bart\\u00f3k)\",\n",
      "  \"url\": \"https://simple.wikipedia.org/wiki/Concerto%20for%20Orchestra%20%28Bart%C3%B3k%29\",\n",
      "  \"wiki_id\": \"20231101.simple_193305_4\"\n",
      "}\n",
      "0.5741997361183167\n",
      "\n",
      "Hybrid (Result Set vector,hybridVector) Document 83eba141-066f-55ea-bedd-c61ad78665fe: original score 0.43860692, normalized score: 0.57419974\n",
      "{\n",
      "  \"text\": \"The simplest type of mechanical aid is the use of wooden \\\"fingers\\\" that can be closed to press the string down and fret the C#, D, Eb, or E notes. This system is particularly useful for basslines that have a repeating pedal point such as a low D, because once the note is locked in place with the mechanical \\\"finger\\\", the lowest string then sounds a different note when it is played \\\"open\\\" (e.g., a low D).\",\n",
      "  \"title\": \"Double bass\",\n",
      "  \"url\": \"https://simple.wikipedia.org/wiki/Double%20bass\",\n",
      "  \"wiki_id\": \"20231101.simple_16629_10\"\n",
      "}\n",
      "0.5720213055610657\n",
      "\n",
      "Hybrid (Result Set vector,hybridVector) Document abaa61e8-7af9-5842-82dd-664c526f2e49: original score 0.43798304, normalized score: 0.5720213\n",
      "{\n",
      "  \"text\": \"Equal temperament (a special case of well-temperament), in which notes of the scale which are next to one another are all separated by logarithmically equal distances, which are integer powers of 21/12.\",\n",
      "  \"title\": \"Musical tuning\",\n",
      "  \"url\": \"https://simple.wikipedia.org/wiki/Musical%20tuning\",\n",
      "  \"wiki_id\": \"20231101.simple_72590_18\"\n",
      "}\n",
      "0.5664708614349365\n",
      "\n",
      "Hybrid (Result Set keyword,bm25) Document 2488a78e-13a0-5cbe-ada0-e974525296f8: original score 3.8982148, normalized score: 0.3 - \n",
      "Hybrid (Result Set vector,hybridVector) Document 2488a78e-13a0-5cbe-ada0-e974525296f8: original score 0.3504755, normalized score: 0.26647085\n"
     ]
    }
   ],
   "source": [
    "from weaviate.classes.query import MetadataQuery\n",
    "\n",
    "response = wiki.query.hybrid(\n",
    "    query=\"musical instruments\",\n",
    "    alpha=0.7,\n",
    "    limit=5,\n",
    "    query_properties=[\"title\"],\n",
    "    return_metadata=MetadataQuery(score=True, explain_score=True)\n",
    ")\n",
    "\n",
    "for item in response.objects:\n",
    "    print_properties(item)\n",
    "    print(item.metadata.score)\n",
    "    print(item.metadata.explain_score)"
   ]
  },
  {
   "cell_type": "markdown",
   "metadata": {},
   "source": [
    "## Close the client"
   ]
  },
  {
   "cell_type": "code",
   "execution_count": 27,
   "metadata": {},
   "outputs": [],
   "source": [
    "client.close()"
   ]
  }
 ],
 "metadata": {
  "kernelspec": {
   "display_name": "Python 3",
   "language": "python",
   "name": "python3"
  },
  "language_info": {
   "codemirror_mode": {
    "name": "ipython",
    "version": 3
   },
   "file_extension": ".py",
   "mimetype": "text/x-python",
   "name": "python",
   "nbconvert_exporter": "python",
   "pygments_lexer": "ipython3",
   "version": "3.12.6"
  }
 },
 "nbformat": 4,
 "nbformat_minor": 2
}
